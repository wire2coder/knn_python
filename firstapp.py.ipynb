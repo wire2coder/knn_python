{
 "cells": [
  {
   "cell_type": "code",
   "execution_count": 2,
   "metadata": {},
   "outputs": [
    {
     "name": "stdout",
     "output_type": "stream",
     "text": [
      "Lines with a: 2336\n",
      "program run time: 0.375361 second(s)\n"
     ]
    }
   ],
   "source": [
    "# Python 2.7\n",
    "\n",
    "import timeit # for timing the program execution time\n",
    "from pyspark import SparkContext\n",
    "\n",
    "\n",
    "logFile = \"43.txt\"\n",
    "# logFile = \"warPeaceBig.txt\"\n",
    "\n",
    "\n",
    "# sc = SparkContext(\"local\", \"first app\") << this line DOES NOT WORK\n",
    "sc = SparkContext.getOrCreate()\n",
    "logData = sc.textFile(logFile).cache()\n",
    "\n",
    "# starting timer\n",
    "start = timeit.default_timer()\n",
    "\n",
    "\n",
    "numAs = logData.filter(lambda s: 'a' in s).count() \n",
    "print \"Lines with a: %i\" % (numAs)\n",
    "\n",
    "\n",
    "# stop timer\n",
    "stop = timeit.default_timer()\n",
    "\n",
    "# print out, execution time for the program\n",
    "print \"program run time: %f second(s)\" % (stop - start) "
   ]
  }
 ],
 "metadata": {
  "kernelspec": {
   "display_name": "Python 2",
   "language": "python",
   "name": "python2"
  },
  "language_info": {
   "codemirror_mode": {
    "name": "ipython",
    "version": 2
   },
   "file_extension": ".py",
   "mimetype": "text/x-python",
   "name": "python",
   "nbconvert_exporter": "python",
   "pygments_lexer": "ipython2",
   "version": "2.7.16"
  }
 },
 "nbformat": 4,
 "nbformat_minor": 2
}
