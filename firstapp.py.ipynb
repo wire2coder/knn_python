{
 "cells": [
  {
   "cell_type": "code",
   "execution_count": 15,
   "metadata": {},
   "outputs": [
    {
     "name": "stdout",
     "output_type": "stream",
     "text": [
      "Lines with a: 16455936\n",
      "program run time: 203.022477 second(s)\n"
     ]
    }
   ],
   "source": [
    "import timeit # for timing the program execution time\n",
    "from pyspark import SparkContext\n",
    "\n",
    "# this is a book, \"The Str\"\n",
    "# logFile = \"43.txt\"\n",
    "logFile = \"warPeaceBig.txt\"\n",
    "\n",
    "\n",
    "# sc = SparkContext(\"local\", \"first app\") << this line DOES NOT WORK\n",
    "sc = SparkContext.getOrCreate()\n",
    "logData = sc.textFile(logFile).cache()\n",
    "\n",
    "# starting timer\n",
    "start = timeit.default_timer()\n",
    "\n",
    "\n",
    "numAs = logData.filter(lambda s: 'a' in s).count() \n",
    "print(\"Lines with a: %i\" % (numAs))\n",
    "\n",
    "\n",
    "# stop timer\n",
    "stop = timeit.default_timer()\n",
    "\n",
    "# print out, execution time for the program\n",
    "print(\"program run time: %f second(s)\" % (stop - start) )"
   ]
  },
  {
   "cell_type": "code",
   "execution_count": null,
   "metadata": {},
   "outputs": [],
   "source": []
  }
 ],
 "metadata": {
  "kernelspec": {
   "display_name": "Python 2",
   "language": "python",
   "name": "python2"
  },
  "language_info": {
   "codemirror_mode": {
    "name": "ipython",
    "version": 2
   },
   "file_extension": ".py",
   "mimetype": "text/x-python",
   "name": "python",
   "nbconvert_exporter": "python",
   "pygments_lexer": "ipython2",
   "version": "2.7.17"
  }
 },
 "nbformat": 4,
 "nbformat_minor": 2
}
