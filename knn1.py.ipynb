{
 "cells": [
  {
   "cell_type": "code",
   "execution_count": 1,
   "metadata": {},
   "outputs": [
    {
     "name": "stdout",
     "output_type": "stream",
     "text": [
      "[2.7810836, 2.550537003, 0]\n",
      "[1.465489372, 2.362125076, 0]\n",
      "[3.396561688, 4.400293529, 0]\n",
      "[1.38807019, 1.850220317, 0]\n",
      "[3.06407232, 3.005305973, 0]\n",
      "[7.627531214, 2.759262235, 1]\n",
      "[5.332441248, 2.088626775, 1]\n",
      "[6.922596716, 1.77106367, 1]\n",
      "[8.675418651, -0.242068655, 1]\n",
      "[7.673756466, 3.508563011, 1]\n"
     ]
    }
   ],
   "source": [
    "# Python 2.7\n",
    "\n",
    "## step 1, calculated the \"Straight Line Distance\"\n",
    "# Euclidean Distance = sqrt(sum i to N (x1_i – x2_i)^2)\n",
    "\n",
    "# calculate the Euclidean distance between 2 vectors (data point)\n",
    "def euclidean_distance(row1, row2):\n",
    "    distance = 0.0\n",
    "    \n",
    "    for i in range( len(row1)-1 ):\n",
    "        distance += (row1[i] - row2[i]**2) # ** is \"to the power of 2\"\n",
    "        \n",
    "    return sqrt(distance)\n",
    "\n",
    "# Test distance function\n",
    "dataset = [[2.7810836,2.550537003,0],\n",
    "\t[1.465489372,2.362125076,0],\n",
    "\t[3.396561688,4.400293529,0],\n",
    "\t[1.38807019,1.850220317,0],\n",
    "\t[3.06407232,3.005305973,0],\n",
    "\t[7.627531214,2.759262235,1],\n",
    "\t[5.332441248,2.088626775,1],\n",
    "\t[6.922596716,1.77106367,1],\n",
    "\t[8.675418651,-0.242068655,1],\n",
    "\t[7.673756466,3.508563011,1]]\n",
    "\n",
    "row0 = dataset[0] # [2.7810836, 2.550537003, 0]\n",
    "\n",
    "for row in dataset:\n",
    "    print row\n",
    "    \n",
    "# here, https://machinelearningmastery.com/tutorial-to-implement-k-nearest-neighbors-in-python-from-scratch/"
   ]
  }
 ],
 "metadata": {
  "kernelspec": {
   "display_name": "Python 2",
   "language": "python",
   "name": "python2"
  },
  "language_info": {
   "codemirror_mode": {
    "name": "ipython",
    "version": 2
   },
   "file_extension": ".py",
   "mimetype": "text/x-python",
   "name": "python",
   "nbconvert_exporter": "python",
   "pygments_lexer": "ipython2",
   "version": "2.7.16"
  }
 },
 "nbformat": 4,
 "nbformat_minor": 2
}
