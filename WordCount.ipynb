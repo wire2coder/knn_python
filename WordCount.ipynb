{
 "cells": [
  {
   "cell_type": "code",
   "execution_count": 4,
   "metadata": {},
   "outputs": [
    {
     "name": "stdout",
     "output_type": "stream",
     "text": [
      "('program run time', 0.15558695793151855)\n"
     ]
    }
   ],
   "source": [
    "import timeit # for timing the program execution time\n",
    "import pyspark\n",
    "\n",
    "# starting timer\n",
    "start = timeit.default_timer()\n",
    "\n",
    "sc = pyspark.SparkContext.getOrCreate()\n",
    "sc.setLogLevel('WARN') # this line is a LIFE SAVER\n",
    "\n",
    "text_file = sc.textFile(\"43.txt\")\n",
    "counts = text_file.flatMap(lambda line: line.split(\" \")) \\\n",
    "             .map(lambda word: (word, 1)) \\\n",
    "             .reduceByKey(lambda a, b: a + b)\n",
    "\n",
    "# stop timer\n",
    "stop = timeit.default_timer()\n",
    "\n",
    "# print out, execution time for the program\n",
    "runtime = start - stop\n",
    "print('program run time', stop - start)\n",
    "\n",
    "# saving \"results\" to a file\n",
    "counts.saveAsTextFile(\"43results3.txt\")\n",
    "\n"
   ]
  }
 ],
 "metadata": {
  "kernelspec": {
   "display_name": "Python 2",
   "language": "python",
   "name": "python2"
  },
  "language_info": {
   "codemirror_mode": {
    "name": "ipython",
    "version": 2
   },
   "file_extension": ".py",
   "mimetype": "text/x-python",
   "name": "python",
   "nbconvert_exporter": "python",
   "pygments_lexer": "ipython2",
   "version": "2.7.17"
  }
 },
 "nbformat": 4,
 "nbformat_minor": 2
}
